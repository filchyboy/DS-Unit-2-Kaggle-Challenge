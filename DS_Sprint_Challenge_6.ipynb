{
 "cells": [
  {
   "cell_type": "markdown",
   "metadata": {
    "colab_type": "text",
    "id": "M3XH_XLsy_Bn"
   },
   "source": [
    "_Lambda School Data Science, Unit 2_\n",
    " \n",
    "# Sprint Challenge: Predict Steph Curry's shots 🏀\n",
    "\n",
    "For your Sprint Challenge, you'll use a dataset with all Steph Curry's NBA field goal attempts. (Regular season and playoff games, from October 28, 2009, through June 5, 2019.) \n",
    "\n",
    "You'll predict whether each shot was made, using information about the shot and the game. This is hard to predict! Try to get above 60% accuracy. The dataset was collected with the [nba_api](https://github.com/swar/nba_api) Python library."
   ]
  },
  {
   "cell_type": "code",
   "execution_count": 209,
   "metadata": {
    "colab": {},
    "colab_type": "code",
    "id": "p_8ITu11gsjp"
   },
   "outputs": [],
   "source": [
    "%%capture\n",
    "!pip install category_encoders"
   ]
  },
  {
   "cell_type": "code",
   "execution_count": 210,
   "metadata": {
    "colab": {},
    "colab_type": "code",
    "id": "2E8YBNkWVHN5"
   },
   "outputs": [],
   "source": [
    "import datetime\n",
    "import numpy as np\n",
    "from sklearn.model_selection import train_test_split\n",
    "from sklearn.ensemble import RandomForestRegressor\n",
    "from sklearn.ensemble import RandomForestClassifier\n",
    "from sklearn.impute import SimpleImputer\n",
    "from sklearn.pipeline import make_pipeline\n",
    "import category_encoders as ce\n",
    "from sklearn.model_selection import cross_val_score\n",
    "from sklearn.preprocessing import OneHotEncoder\n",
    "from sklearn.tree import DecisionTreeClassifier\n",
    "from sklearn.preprocessing import StandardScaler"
   ]
  },
  {
   "cell_type": "code",
   "execution_count": 211,
   "metadata": {
    "colab": {},
    "colab_type": "code",
    "id": "Nw3CL7TE7tNq"
   },
   "outputs": [],
   "source": [
    "%%capture\n",
    "import sys\n",
    "\n",
    "if 'google.colab' in sys.modules:\n",
    "    # Install packages in Colab\n",
    "    !pip install category_encoders==2.*\n",
    "    !pip install pandas-profiling==2.*"
   ]
  },
  {
   "cell_type": "code",
   "execution_count": 212,
   "metadata": {
    "colab": {},
    "colab_type": "code",
    "id": "-Nm24pCHy_Bo"
   },
   "outputs": [],
   "source": [
    "# Read data\n",
    "import pandas as pd\n",
    "url = 'https://drive.google.com/uc?export=download&id=1fL7KPyxgGYfQDsuJoBWHIWwCAf-HTFpX'\n",
    "df = pd.read_csv(url)\n",
    "\n",
    "# Check data shape\n",
    "assert df.shape == (13958, 20)"
   ]
  },
  {
   "cell_type": "code",
   "execution_count": 213,
   "metadata": {
    "colab": {
     "base_uri": "https://localhost:8080/",
     "height": 34
    },
    "colab_type": "code",
    "id": "5AarnS2DTBKj",
    "outputId": "71b5a78e-66d2-41ad-cf0d-22c52a36fdab"
   },
   "outputs": [
    {
     "data": {
      "text/plain": [
       "(13958, 20)"
      ]
     },
     "execution_count": 213,
     "metadata": {},
     "output_type": "execute_result"
    }
   ],
   "source": [
    "df.shape"
   ]
  },
  {
   "cell_type": "code",
   "execution_count": 214,
   "metadata": {
    "colab": {
     "base_uri": "https://localhost:8080/",
     "height": 297
    },
    "colab_type": "code",
    "id": "vxE_n546TFBc",
    "outputId": "00ab1f7c-89d9-4361-9ca1-80d9d53c842f"
   },
   "outputs": [
    {
     "data": {
      "text/html": [
       "<div>\n",
       "<style scoped>\n",
       "    .dataframe tbody tr th:only-of-type {\n",
       "        vertical-align: middle;\n",
       "    }\n",
       "\n",
       "    .dataframe tbody tr th {\n",
       "        vertical-align: top;\n",
       "    }\n",
       "\n",
       "    .dataframe thead th {\n",
       "        text-align: right;\n",
       "    }\n",
       "</style>\n",
       "<table border=\"1\" class=\"dataframe\">\n",
       "  <thead>\n",
       "    <tr style=\"text-align: right;\">\n",
       "      <th></th>\n",
       "      <th>game_id</th>\n",
       "      <th>game_event_id</th>\n",
       "      <th>period</th>\n",
       "      <th>minutes_remaining</th>\n",
       "      <th>seconds_remaining</th>\n",
       "      <th>shot_distance</th>\n",
       "      <th>loc_x</th>\n",
       "      <th>loc_y</th>\n",
       "      <th>shot_made_flag</th>\n",
       "      <th>scoremargin_before_shot</th>\n",
       "    </tr>\n",
       "  </thead>\n",
       "  <tbody>\n",
       "    <tr>\n",
       "      <td>count</td>\n",
       "      <td>1.395800e+04</td>\n",
       "      <td>13958.000000</td>\n",
       "      <td>13958.000000</td>\n",
       "      <td>13958.000000</td>\n",
       "      <td>13958.000000</td>\n",
       "      <td>13958.000000</td>\n",
       "      <td>13958.000000</td>\n",
       "      <td>13958.000000</td>\n",
       "      <td>13958.000000</td>\n",
       "      <td>13958.000000</td>\n",
       "    </tr>\n",
       "    <tr>\n",
       "      <td>mean</td>\n",
       "      <td>2.442837e+07</td>\n",
       "      <td>270.438458</td>\n",
       "      <td>2.412380</td>\n",
       "      <td>4.727540</td>\n",
       "      <td>28.506376</td>\n",
       "      <td>17.600373</td>\n",
       "      <td>-0.554162</td>\n",
       "      <td>131.257988</td>\n",
       "      <td>0.472919</td>\n",
       "      <td>1.615561</td>\n",
       "    </tr>\n",
       "    <tr>\n",
       "      <td>std</td>\n",
       "      <td>7.226620e+06</td>\n",
       "      <td>169.927170</td>\n",
       "      <td>1.125828</td>\n",
       "      <td>3.331646</td>\n",
       "      <td>17.597701</td>\n",
       "      <td>10.295807</td>\n",
       "      <td>124.721869</td>\n",
       "      <td>102.666562</td>\n",
       "      <td>0.499284</td>\n",
       "      <td>10.127139</td>\n",
       "    </tr>\n",
       "    <tr>\n",
       "      <td>min</td>\n",
       "      <td>2.090002e+07</td>\n",
       "      <td>2.000000</td>\n",
       "      <td>1.000000</td>\n",
       "      <td>0.000000</td>\n",
       "      <td>0.000000</td>\n",
       "      <td>0.000000</td>\n",
       "      <td>-250.000000</td>\n",
       "      <td>-41.000000</td>\n",
       "      <td>0.000000</td>\n",
       "      <td>-39.000000</td>\n",
       "    </tr>\n",
       "    <tr>\n",
       "      <td>25%</td>\n",
       "      <td>2.120091e+07</td>\n",
       "      <td>109.000000</td>\n",
       "      <td>1.000000</td>\n",
       "      <td>2.000000</td>\n",
       "      <td>13.000000</td>\n",
       "      <td>8.000000</td>\n",
       "      <td>-96.000000</td>\n",
       "      <td>23.000000</td>\n",
       "      <td>0.000000</td>\n",
       "      <td>-4.000000</td>\n",
       "    </tr>\n",
       "    <tr>\n",
       "      <td>50%</td>\n",
       "      <td>2.150026e+07</td>\n",
       "      <td>275.500000</td>\n",
       "      <td>2.000000</td>\n",
       "      <td>4.000000</td>\n",
       "      <td>29.000000</td>\n",
       "      <td>22.000000</td>\n",
       "      <td>1.000000</td>\n",
       "      <td>141.000000</td>\n",
       "      <td>0.000000</td>\n",
       "      <td>1.000000</td>\n",
       "    </tr>\n",
       "    <tr>\n",
       "      <td>75%</td>\n",
       "      <td>2.170096e+07</td>\n",
       "      <td>398.000000</td>\n",
       "      <td>3.000000</td>\n",
       "      <td>7.000000</td>\n",
       "      <td>44.000000</td>\n",
       "      <td>25.000000</td>\n",
       "      <td>95.000000</td>\n",
       "      <td>219.000000</td>\n",
       "      <td>1.000000</td>\n",
       "      <td>8.000000</td>\n",
       "    </tr>\n",
       "    <tr>\n",
       "      <td>max</td>\n",
       "      <td>4.180040e+07</td>\n",
       "      <td>752.000000</td>\n",
       "      <td>6.000000</td>\n",
       "      <td>11.000000</td>\n",
       "      <td>59.000000</td>\n",
       "      <td>83.000000</td>\n",
       "      <td>247.000000</td>\n",
       "      <td>811.000000</td>\n",
       "      <td>1.000000</td>\n",
       "      <td>43.000000</td>\n",
       "    </tr>\n",
       "  </tbody>\n",
       "</table>\n",
       "</div>"
      ],
      "text/plain": [
       "            game_id  game_event_id        period  minutes_remaining  \\\n",
       "count  1.395800e+04   13958.000000  13958.000000       13958.000000   \n",
       "mean   2.442837e+07     270.438458      2.412380           4.727540   \n",
       "std    7.226620e+06     169.927170      1.125828           3.331646   \n",
       "min    2.090002e+07       2.000000      1.000000           0.000000   \n",
       "25%    2.120091e+07     109.000000      1.000000           2.000000   \n",
       "50%    2.150026e+07     275.500000      2.000000           4.000000   \n",
       "75%    2.170096e+07     398.000000      3.000000           7.000000   \n",
       "max    4.180040e+07     752.000000      6.000000          11.000000   \n",
       "\n",
       "       seconds_remaining  shot_distance         loc_x         loc_y  \\\n",
       "count       13958.000000   13958.000000  13958.000000  13958.000000   \n",
       "mean           28.506376      17.600373     -0.554162    131.257988   \n",
       "std            17.597701      10.295807    124.721869    102.666562   \n",
       "min             0.000000       0.000000   -250.000000    -41.000000   \n",
       "25%            13.000000       8.000000    -96.000000     23.000000   \n",
       "50%            29.000000      22.000000      1.000000    141.000000   \n",
       "75%            44.000000      25.000000     95.000000    219.000000   \n",
       "max            59.000000      83.000000    247.000000    811.000000   \n",
       "\n",
       "       shot_made_flag  scoremargin_before_shot  \n",
       "count    13958.000000             13958.000000  \n",
       "mean         0.472919                 1.615561  \n",
       "std          0.499284                10.127139  \n",
       "min          0.000000               -39.000000  \n",
       "25%          0.000000                -4.000000  \n",
       "50%          0.000000                 1.000000  \n",
       "75%          1.000000                 8.000000  \n",
       "max          1.000000                43.000000  "
      ]
     },
     "execution_count": 214,
     "metadata": {},
     "output_type": "execute_result"
    }
   ],
   "source": [
    "df.describe()"
   ]
  },
  {
   "cell_type": "markdown",
   "metadata": {
    "colab_type": "text",
    "id": "B8BvDKLFy_Bq"
   },
   "source": [
    "To demonstrate mastery on your Sprint Challenge, do all the required, numbered instructions in this notebook.\n",
    "\n",
    "To earn a score of \"3\", also do all the stretch goals.\n",
    "\n",
    "You are permitted and encouraged to do as much data exploration as you want.\n",
    "\n",
    "**1. Begin with baselines for classification.** Your target to predict is `shot_made_flag`. What is your baseline accuracy, if you guessed the majority class for every prediction?\n",
    "\n",
    "**2. Hold out your test set.** Use the 2018-19 season to test. NBA seasons begin in October and end in June. You'll know you've split the data correctly when your test set has 1,709 observations.\n",
    "\n",
    "**3. Engineer new feature.** Engineer at least **1** new feature, from this list, or your own idea.\n",
    "- **Homecourt Advantage**: Is the home team (`htm`) the Golden State Warriors (`GSW`) ?\n",
    "- **Opponent**: Who is the other team playing the Golden State Warriors?\n",
    "- **Seconds remaining in the period**: Combine minutes remaining with seconds remaining, to get the total number of seconds remaining in the period.\n",
    "- **Seconds remaining in the game**: Combine period, and seconds remaining in the period, to get the total number of seconds remaining in the game. A basketball game has 4 periods, each 12 minutes long.\n",
    "- **Made previous shot**: Was Steph Curry's previous shot successful?\n",
    "\n",
    "**4. Decide how to validate** your model. Choose one of the following options. Any of these options are good. You are not graded on which you choose.\n",
    "- **Train/validate/test split: train on the 2009-10 season through 2016-17 season, validate with the 2017-18 season.** You'll know you've split the data correctly when your train set has 11,081 observations, and your validation set has 1,168 observations.\n",
    "- **Train/validate/test split: random 80/20%** train/validate split.\n",
    "- **Cross-validation** with independent test set. You may use any scikit-learn cross-validation method.\n",
    "\n",
    "**5.** Use a scikit-learn **pipeline** to **encode categoricals** and fit a **Decision Tree** or **Random Forest** model.\n",
    "\n",
    "**6.** Get your model's **validation accuracy.** (Multiple times if you try multiple iterations.) \n",
    "\n",
    "**7.** Get your model's **test accuracy.** (One time, at the end.)\n",
    "\n",
    "\n",
    "**8.** Given a **confusion matrix** for a hypothetical binary classification model, **calculate accuracy, precision, and recall.**\n",
    "\n",
    "### Stretch Goals\n",
    "- Engineer 4+ new features total, either from the list above, or your own ideas.\n",
    "- Make 2+ visualizations to explore relationships between features and target.\n",
    "- Optimize 3+ hyperparameters by trying 10+ \"candidates\" (possible combinations of hyperparameters). You can use `RandomizedSearchCV` or do it manually.\n",
    "- Get and plot your model's feature importances.\n",
    "\n"
   ]
  },
  {
   "cell_type": "markdown",
   "metadata": {
    "colab_type": "text",
    "id": "t6Jt3qjQ-zig"
   },
   "source": [
    "## 1. Begin with baselines for classification. \n",
    "\n",
    ">Your target to predict is `shot_made_flag`. What would your baseline accuracy be, if you guessed the majority class for every prediction?"
   ]
  },
  {
   "cell_type": "code",
   "execution_count": 215,
   "metadata": {
    "colab": {
     "base_uri": "https://localhost:8080/",
     "height": 34
    },
    "colab_type": "code",
    "id": "I0BDeNFG_Kee",
    "outputId": "1fc480d8-f972-43ad-a254-02a854406b74"
   },
   "outputs": [
    {
     "data": {
      "text/plain": [
       "0.4729187562688064"
      ]
     },
     "execution_count": 215,
     "metadata": {},
     "output_type": "execute_result"
    }
   ],
   "source": [
    "df['shot_made_flag'].mean()"
   ]
  },
  {
   "cell_type": "markdown",
   "metadata": {
    "colab_type": "text",
    "id": "spLwYyBkTXhn"
   },
   "source": [
    "Shot baseline is 47%. This can be found in the df describe I did above and is reflected as well in this specific call here: 0.4729187562688064"
   ]
  },
  {
   "cell_type": "markdown",
   "metadata": {
    "colab_type": "text",
    "id": "Dz2QHBiVy_Br"
   },
   "source": [
    "## 2. Hold out your test set.\n",
    "\n",
    ">Use the 2018-19 season to test. NBA seasons begin in October and end in June. You'll know you've split the data correctly when your test set has 1,709 observations."
   ]
  },
  {
   "cell_type": "code",
   "execution_count": 216,
   "metadata": {
    "colab": {
     "base_uri": "https://localhost:8080/",
     "height": 119
    },
    "colab_type": "code",
    "id": "OPod6lBG_wTT",
    "outputId": "2695b6c0-6fcf-40dd-cd2c-bb5a17b48ff0"
   },
   "outputs": [
    {
     "data": {
      "text/plain": [
       "Index(['game_id', 'game_event_id', 'player_name', 'period',\n",
       "       'minutes_remaining', 'seconds_remaining', 'action_type', 'shot_type',\n",
       "       'shot_zone_basic', 'shot_zone_area', 'shot_zone_range', 'shot_distance',\n",
       "       'loc_x', 'loc_y', 'shot_made_flag', 'game_date', 'htm', 'vtm',\n",
       "       'season_type', 'scoremargin_before_shot'],\n",
       "      dtype='object')"
      ]
     },
     "execution_count": 216,
     "metadata": {},
     "output_type": "execute_result"
    }
   ],
   "source": [
    "df.columns"
   ]
  },
  {
   "cell_type": "markdown",
   "metadata": {
    "colab_type": "text",
    "id": "5JFbs7x2XK22"
   },
   "source": [
    "Found the season column in 'game_date'"
   ]
  },
  {
   "cell_type": "code",
   "execution_count": 217,
   "metadata": {
    "colab": {},
    "colab_type": "code",
    "id": "mDp4aE6nUovu"
   },
   "outputs": [],
   "source": [
    "#df['game_date']= pd.to_datetime(df['game_date']) \n",
    "#df['season_year'] = pd.DatetimeIndex(df['game_date']).year\n",
    "#df['season_month'] = pd.DatetimeIndex(df['game_date']).month"
   ]
  },
  {
   "cell_type": "markdown",
   "metadata": {
    "colab_type": "text",
    "id": "U1v_Vd95XS_o"
   },
   "source": [
    "Converted 'game_date' to datetime pandas and then pulled out the year and added the feature of season with 'season_year'"
   ]
  },
  {
   "cell_type": "code",
   "execution_count": 218,
   "metadata": {
    "colab": {},
    "colab_type": "code",
    "id": "nvrG5qgyXoFA"
   },
   "outputs": [],
   "source": [
    "#mask = (df['game_date'] > pd.to_datetime('2018-10-01')) & (df['game_date'] <= pd.to_datetime('2019-06-30'))\n",
    "#test = df.loc[mask]"
   ]
  },
  {
   "cell_type": "code",
   "execution_count": 219,
   "metadata": {},
   "outputs": [],
   "source": [
    "df = df.set_index('game_date')\n",
    "train = df[:'2018-09:30']\n",
    "test = df['2018-10-01':]"
   ]
  },
  {
   "cell_type": "code",
   "execution_count": 220,
   "metadata": {
    "colab": {
     "base_uri": "https://localhost:8080/",
     "height": 34
    },
    "colab_type": "code",
    "id": "tsJp0rbmX6UF",
    "outputId": "5703079e-1c58-4c4d-b509-961614cb8526"
   },
   "outputs": [
    {
     "data": {
      "text/plain": [
       "(1709, 19)"
      ]
     },
     "execution_count": 220,
     "metadata": {},
     "output_type": "execute_result"
    }
   ],
   "source": [
    "test.shape"
   ]
  },
  {
   "cell_type": "markdown",
   "metadata": {},
   "source": [
    "df = df.set_index('game_date')\n",
    "train = df[:'2018-09:30']\n",
    "test = df['2018-10-01':]\n",
    "\n",
    "Then, later\n",
    "\n",
    "val = train['2017-10-01':'2018-09-30']\n",
    "train = train[:'2017-09-30']"
   ]
  },
  {
   "cell_type": "markdown",
   "metadata": {
    "colab_type": "text",
    "id": "F1BnjMa3argR"
   },
   "source": [
    "Created a mask against the original 'game_date' feature which extended from Oct 2018 to June 2019 and then ran its shape to confirm accuracy."
   ]
  },
  {
   "cell_type": "markdown",
   "metadata": {
    "colab_type": "text",
    "id": "P9Nihzk6y_CF"
   },
   "source": [
    "## 3. Engineer new feature.\n",
    "\n",
    ">Engineer at least **1** new feature, from this list, or your own idea.\n",
    ">\n",
    ">- **Homecourt Advantage**: Is the home team (`htm`) the Golden State Warriors (`GSW`) ?\n",
    ">- **Opponent**: Who is the other team playing the Golden State Warriors?\n",
    ">- **Seconds remaining in the period**: Combine minutes remaining with seconds remaining, to get the total number of seconds remaining in the period.\n",
    ">- **Seconds remaining in the game**: Combine period, and seconds remaining in the period, to get the total number of seconds remaining in the game. A basketball game has 4 periods, each 12 minutes long.\n",
    ">- **Made previous shot**: Was Steph Curry's previous shot successful?\n",
    "\n",
    "    "
   ]
  },
  {
   "cell_type": "code",
   "execution_count": 221,
   "metadata": {
    "colab": {
     "base_uri": "https://localhost:8080/",
     "height": 204
    },
    "colab_type": "code",
    "id": "A0pxdFtWy_Bz",
    "outputId": "3ce415be-40a2-4069-f66c-d51f489629a3"
   },
   "outputs": [],
   "source": [
    "#df['season_year'].head(),df['season_month'].head()"
   ]
  },
  {
   "cell_type": "markdown",
   "metadata": {
    "colab_type": "text",
    "id": "qs_cjkhqbg-e"
   },
   "source": [
    "I already created 2 new features 'season_year' & 'season_month'"
   ]
  },
  {
   "cell_type": "code",
   "execution_count": 222,
   "metadata": {
    "colab": {
     "base_uri": "https://localhost:8080/",
     "height": 34
    },
    "colab_type": "code",
    "id": "jKGrADHabfW5",
    "outputId": "876ca81d-2a34-47d9-b5c2-816dd41a51bc"
   },
   "outputs": [
    {
     "data": {
      "text/plain": [
       "array(['HOU', 'HOU', 'HOU', ..., 'TOR', 'TOR', 'TOR'], dtype=object)"
      ]
     },
     "execution_count": 222,
     "metadata": {},
     "output_type": "execute_result"
    }
   ],
   "source": [
    "teams = np.array(df['vtm'])\n",
    "teams"
   ]
  },
  {
   "cell_type": "markdown",
   "metadata": {
    "colab_type": "text",
    "id": "qX-bVbKtc2yq"
   },
   "source": [
    "I could create a dictionary to engineer a feature using english names for the team abbreviations. But I have already engineered two features and I will move on for now.\n"
   ]
  },
  {
   "cell_type": "markdown",
   "metadata": {
    "colab_type": "text",
    "id": "eLs7pt7NFJLF"
   },
   "source": [
    "## **4. Decide how to validate** your model. \n",
    "\n",
    ">Choose one of the following options. Any of these options are good. You are not graded on which you choose.\n",
    ">\n",
    ">- **Train/validate/test split: train on the 2009-10 season through 2016-17 season, validate with the 2017-18 season.** You'll know you've split the data correctly when your train set has 11,081 observations, and your validation set has 1,168 observations.\n",
    ">- **Train/validate/test split: random 80/20%** train/validate split.\n",
    ">- **Cross-validation** with independent test set. You may use any scikit-learn cross-validation method."
   ]
  },
  {
   "cell_type": "code",
   "execution_count": 223,
   "metadata": {
    "colab": {},
    "colab_type": "code",
    "id": "LJ58CceDISXR"
   },
   "outputs": [],
   "source": [
    "#mask_train = (df['game_date'] > pd.to_datetime('2009-10-01')) & (df['game_date'] <= pd.to_datetime('2017-06-30'))\n",
    "#train = df.loc[mask_train]\n",
    "#mask_val = (df['game_date'] > pd.to_datetime('2017-10-01')) & (df['game_date'] <= pd.to_datetime('2018-06-30'))\n",
    "#val = df.loc[mask_val]"
   ]
  },
  {
   "cell_type": "code",
   "execution_count": 224,
   "metadata": {},
   "outputs": [],
   "source": [
    "val = train['2017-10-01':'2018-09-30']\n",
    "train = train[:'2017-09-30']"
   ]
  },
  {
   "cell_type": "code",
   "execution_count": 225,
   "metadata": {
    "colab": {
     "base_uri": "https://localhost:8080/",
     "height": 34
    },
    "colab_type": "code",
    "id": "A5fZ1wMterB-",
    "outputId": "320c240b-4a06-4808-ab69-cb531a3fd385"
   },
   "outputs": [
    {
     "data": {
      "text/plain": [
       "((11081, 19), (1168, 19), (1709, 19))"
      ]
     },
     "execution_count": 225,
     "metadata": {},
     "output_type": "execute_result"
    }
   ],
   "source": [
    "train.shape, val.shape, test.shape"
   ]
  },
  {
   "cell_type": "code",
   "execution_count": 226,
   "metadata": {
    "colab": {
     "base_uri": "https://localhost:8080/",
     "height": 408
    },
    "colab_type": "code",
    "id": "Q72EdYsGm7Bo",
    "outputId": "d8b10b1f-6b28-4ddb-bd0a-ef4befc74e04"
   },
   "outputs": [
    {
     "data": {
      "text/plain": [
       "game_id                    0\n",
       "game_event_id              0\n",
       "player_name                0\n",
       "period                     0\n",
       "minutes_remaining          0\n",
       "seconds_remaining          0\n",
       "action_type                0\n",
       "shot_type                  0\n",
       "shot_zone_basic            0\n",
       "shot_zone_area             0\n",
       "shot_zone_range            0\n",
       "shot_distance              0\n",
       "loc_x                      0\n",
       "loc_y                      0\n",
       "shot_made_flag             0\n",
       "htm                        0\n",
       "vtm                        0\n",
       "season_type                0\n",
       "scoremargin_before_shot    0\n",
       "dtype: int64"
      ]
     },
     "execution_count": 226,
     "metadata": {},
     "output_type": "execute_result"
    }
   ],
   "source": [
    "df.isnull().sum()"
   ]
  },
  {
   "cell_type": "code",
   "execution_count": 227,
   "metadata": {
    "colab": {},
    "colab_type": "code",
    "id": "xtJVdqAFl1BH"
   },
   "outputs": [],
   "source": [
    "def wrangle(X):\n",
    "    \"\"\"Wrangle train, validate, and test sets in the same way\"\"\"\n",
    "\n",
    "    # Drop columns\n",
    "    # none = ['game_id', 'game_event_id', 'loc_x', 'loc_y', 'player_name' ]\n",
    "    X = X.drop(columns='player_name')\n",
    "    # return the wrangled dataframe\n",
    "    return X"
   ]
  },
  {
   "cell_type": "code",
   "execution_count": 228,
   "metadata": {},
   "outputs": [],
   "source": [
    "#train['game_date'] = train['game_date'].astype(int)"
   ]
  },
  {
   "cell_type": "code",
   "execution_count": 229,
   "metadata": {},
   "outputs": [],
   "source": [
    "#val['game_date'] = val['game_date'].astype(int)"
   ]
  },
  {
   "cell_type": "code",
   "execution_count": 230,
   "metadata": {},
   "outputs": [],
   "source": [
    "#test['game_date'] = test['game_date'].astype(int)"
   ]
  },
  {
   "cell_type": "code",
   "execution_count": 231,
   "metadata": {
    "colab": {},
    "colab_type": "code",
    "id": "v6HOMqW2nPUp"
   },
   "outputs": [],
   "source": [
    "train = wrangle(train)\n",
    "val = wrangle(val)\n",
    "test = wrangle(test)"
   ]
  },
  {
   "cell_type": "code",
   "execution_count": 232,
   "metadata": {
    "colab": {},
    "colab_type": "code",
    "id": "YATvPfPXhXYN"
   },
   "outputs": [],
   "source": [
    "target = 'shot_made_flag'\n",
    "features = train.columns.drop(target)\n",
    "X_train = train[features]\n",
    "y_train = train[target]\n",
    "X_val = val[features]\n",
    "y_val = val[features]\n",
    "X_test = test[features]"
   ]
  },
  {
   "cell_type": "markdown",
   "metadata": {},
   "source": [
    "features = ['period','minutes_remaining', 'seconds_remaining', \n",
    "        'action_type', 'shot_type', 'shot_zone_basic', \n",
    "        'shot_zone_area', 'shot_zone_range', 'shot_distance', \n",
    "        'shot_made_flag', 'htm', 'vtm', 'season_type', \n",
    "        'scoremargin_before_shot']"
   ]
  },
  {
   "cell_type": "code",
   "execution_count": 233,
   "metadata": {
    "colab": {
     "base_uri": "https://localhost:8080/",
     "height": 34
    },
    "colab_type": "code",
    "id": "7KY-h7zpjW09",
    "outputId": "26cf599b-a845-4bd5-8be3-4931caac9389"
   },
   "outputs": [
    {
     "data": {
      "text/plain": [
       "((11081, 17), (11081,), (1168, 17), (1168, 17), (1709, 17))"
      ]
     },
     "execution_count": 233,
     "metadata": {},
     "output_type": "execute_result"
    }
   ],
   "source": [
    "X_train.shape, y_train.shape, X_val.shape, y_val.shape, X_test.shape"
   ]
  },
  {
   "cell_type": "markdown",
   "metadata": {
    "colab_type": "text",
    "id": "oQ2lWlu7JPRt"
   },
   "source": [
    "## 5. Use a scikit-learn pipeline to encode categoricals and fit a Decision Tree or Random Forest model."
   ]
  },
  {
   "cell_type": "markdown",
   "metadata": {},
   "source": [
    "So after changing the dates out of my previous attempt to make them datetime objects I began getting '< str versus float' comparison errors. After looking at the dataframes it is clear they are still not being encoded. So after attempts to change the feature selection and manual attempt to change the 'scoremargin_before_shot' from float to int I realized this is a fallow path. Here I have manually encoded each set of data. As you can see X_train & y_train encode correctly. But using the exact same code in the exact same circumstance X_val & y_val will not encode. None of this makes any sense. The pipeline should work no problem but it won't touch the encoding. Doing this manually should work no problem but it only works on a subset of the data. I am confident I have integrated what I was taught but I lack the tools to figure out what is wrong here."
   ]
  },
  {
   "cell_type": "code",
   "execution_count": 235,
   "metadata": {},
   "outputs": [],
   "source": [
    "encoder = ce.OneHotEncoder(use_cat_names=True)\n",
    "X_train = encoder.fit_transform(X_train)\n"
   ]
  },
  {
   "cell_type": "code",
   "execution_count": 238,
   "metadata": {},
   "outputs": [
    {
     "data": {
      "text/html": [
       "<div>\n",
       "<style scoped>\n",
       "    .dataframe tbody tr th:only-of-type {\n",
       "        vertical-align: middle;\n",
       "    }\n",
       "\n",
       "    .dataframe tbody tr th {\n",
       "        vertical-align: top;\n",
       "    }\n",
       "\n",
       "    .dataframe thead th {\n",
       "        text-align: right;\n",
       "    }\n",
       "</style>\n",
       "<table border=\"1\" class=\"dataframe\">\n",
       "  <thead>\n",
       "    <tr style=\"text-align: right;\">\n",
       "      <th></th>\n",
       "      <th>game_id</th>\n",
       "      <th>game_event_id</th>\n",
       "      <th>period</th>\n",
       "      <th>minutes_remaining</th>\n",
       "      <th>seconds_remaining</th>\n",
       "      <th>action_type_Jump Shot</th>\n",
       "      <th>action_type_Step Back Jump shot</th>\n",
       "      <th>action_type_Pullup Jump shot</th>\n",
       "      <th>action_type_Layup Shot</th>\n",
       "      <th>action_type_Jump Bank Shot</th>\n",
       "      <th>...</th>\n",
       "      <th>vtm_ATL</th>\n",
       "      <th>vtm_PHI</th>\n",
       "      <th>vtm_DET</th>\n",
       "      <th>vtm_TOR</th>\n",
       "      <th>vtm_NYK</th>\n",
       "      <th>vtm_BKN</th>\n",
       "      <th>vtm_NOP</th>\n",
       "      <th>season_type_Regular Season</th>\n",
       "      <th>season_type_Playoffs</th>\n",
       "      <th>scoremargin_before_shot</th>\n",
       "    </tr>\n",
       "    <tr>\n",
       "      <th>game_date</th>\n",
       "      <th></th>\n",
       "      <th></th>\n",
       "      <th></th>\n",
       "      <th></th>\n",
       "      <th></th>\n",
       "      <th></th>\n",
       "      <th></th>\n",
       "      <th></th>\n",
       "      <th></th>\n",
       "      <th></th>\n",
       "      <th></th>\n",
       "      <th></th>\n",
       "      <th></th>\n",
       "      <th></th>\n",
       "      <th></th>\n",
       "      <th></th>\n",
       "      <th></th>\n",
       "      <th></th>\n",
       "      <th></th>\n",
       "      <th></th>\n",
       "      <th></th>\n",
       "    </tr>\n",
       "  </thead>\n",
       "  <tbody>\n",
       "    <tr>\n",
       "      <td>2009-10-28</td>\n",
       "      <td>20900015</td>\n",
       "      <td>4</td>\n",
       "      <td>1</td>\n",
       "      <td>11</td>\n",
       "      <td>25</td>\n",
       "      <td>1</td>\n",
       "      <td>0</td>\n",
       "      <td>0</td>\n",
       "      <td>0</td>\n",
       "      <td>0</td>\n",
       "      <td>...</td>\n",
       "      <td>0</td>\n",
       "      <td>0</td>\n",
       "      <td>0</td>\n",
       "      <td>0</td>\n",
       "      <td>0</td>\n",
       "      <td>0</td>\n",
       "      <td>0</td>\n",
       "      <td>1</td>\n",
       "      <td>0</td>\n",
       "      <td>2.0</td>\n",
       "    </tr>\n",
       "    <tr>\n",
       "      <td>2009-10-28</td>\n",
       "      <td>20900015</td>\n",
       "      <td>17</td>\n",
       "      <td>1</td>\n",
       "      <td>9</td>\n",
       "      <td>31</td>\n",
       "      <td>0</td>\n",
       "      <td>1</td>\n",
       "      <td>0</td>\n",
       "      <td>0</td>\n",
       "      <td>0</td>\n",
       "      <td>...</td>\n",
       "      <td>0</td>\n",
       "      <td>0</td>\n",
       "      <td>0</td>\n",
       "      <td>0</td>\n",
       "      <td>0</td>\n",
       "      <td>0</td>\n",
       "      <td>0</td>\n",
       "      <td>1</td>\n",
       "      <td>0</td>\n",
       "      <td>0.0</td>\n",
       "    </tr>\n",
       "    <tr>\n",
       "      <td>2009-10-28</td>\n",
       "      <td>20900015</td>\n",
       "      <td>53</td>\n",
       "      <td>1</td>\n",
       "      <td>6</td>\n",
       "      <td>2</td>\n",
       "      <td>1</td>\n",
       "      <td>0</td>\n",
       "      <td>0</td>\n",
       "      <td>0</td>\n",
       "      <td>0</td>\n",
       "      <td>...</td>\n",
       "      <td>0</td>\n",
       "      <td>0</td>\n",
       "      <td>0</td>\n",
       "      <td>0</td>\n",
       "      <td>0</td>\n",
       "      <td>0</td>\n",
       "      <td>0</td>\n",
       "      <td>1</td>\n",
       "      <td>0</td>\n",
       "      <td>-4.0</td>\n",
       "    </tr>\n",
       "    <tr>\n",
       "      <td>2009-10-28</td>\n",
       "      <td>20900015</td>\n",
       "      <td>141</td>\n",
       "      <td>2</td>\n",
       "      <td>9</td>\n",
       "      <td>49</td>\n",
       "      <td>1</td>\n",
       "      <td>0</td>\n",
       "      <td>0</td>\n",
       "      <td>0</td>\n",
       "      <td>0</td>\n",
       "      <td>...</td>\n",
       "      <td>0</td>\n",
       "      <td>0</td>\n",
       "      <td>0</td>\n",
       "      <td>0</td>\n",
       "      <td>0</td>\n",
       "      <td>0</td>\n",
       "      <td>0</td>\n",
       "      <td>1</td>\n",
       "      <td>0</td>\n",
       "      <td>-4.0</td>\n",
       "    </tr>\n",
       "    <tr>\n",
       "      <td>2009-10-28</td>\n",
       "      <td>20900015</td>\n",
       "      <td>249</td>\n",
       "      <td>2</td>\n",
       "      <td>2</td>\n",
       "      <td>19</td>\n",
       "      <td>1</td>\n",
       "      <td>0</td>\n",
       "      <td>0</td>\n",
       "      <td>0</td>\n",
       "      <td>0</td>\n",
       "      <td>...</td>\n",
       "      <td>0</td>\n",
       "      <td>0</td>\n",
       "      <td>0</td>\n",
       "      <td>0</td>\n",
       "      <td>0</td>\n",
       "      <td>0</td>\n",
       "      <td>0</td>\n",
       "      <td>1</td>\n",
       "      <td>0</td>\n",
       "      <td>0.0</td>\n",
       "    </tr>\n",
       "  </tbody>\n",
       "</table>\n",
       "<p>5 rows × 146 columns</p>\n",
       "</div>"
      ],
      "text/plain": [
       "             game_id  game_event_id  period  minutes_remaining  \\\n",
       "game_date                                                        \n",
       "2009-10-28  20900015              4       1                 11   \n",
       "2009-10-28  20900015             17       1                  9   \n",
       "2009-10-28  20900015             53       1                  6   \n",
       "2009-10-28  20900015            141       2                  9   \n",
       "2009-10-28  20900015            249       2                  2   \n",
       "\n",
       "            seconds_remaining  action_type_Jump Shot  \\\n",
       "game_date                                              \n",
       "2009-10-28                 25                      1   \n",
       "2009-10-28                 31                      0   \n",
       "2009-10-28                  2                      1   \n",
       "2009-10-28                 49                      1   \n",
       "2009-10-28                 19                      1   \n",
       "\n",
       "            action_type_Step Back Jump shot  action_type_Pullup Jump shot  \\\n",
       "game_date                                                                   \n",
       "2009-10-28                                0                             0   \n",
       "2009-10-28                                1                             0   \n",
       "2009-10-28                                0                             0   \n",
       "2009-10-28                                0                             0   \n",
       "2009-10-28                                0                             0   \n",
       "\n",
       "            action_type_Layup Shot  action_type_Jump Bank Shot  ...  vtm_ATL  \\\n",
       "game_date                                                       ...            \n",
       "2009-10-28                       0                           0  ...        0   \n",
       "2009-10-28                       0                           0  ...        0   \n",
       "2009-10-28                       0                           0  ...        0   \n",
       "2009-10-28                       0                           0  ...        0   \n",
       "2009-10-28                       0                           0  ...        0   \n",
       "\n",
       "            vtm_PHI  vtm_DET  vtm_TOR  vtm_NYK  vtm_BKN  vtm_NOP  \\\n",
       "game_date                                                          \n",
       "2009-10-28        0        0        0        0        0        0   \n",
       "2009-10-28        0        0        0        0        0        0   \n",
       "2009-10-28        0        0        0        0        0        0   \n",
       "2009-10-28        0        0        0        0        0        0   \n",
       "2009-10-28        0        0        0        0        0        0   \n",
       "\n",
       "            season_type_Regular Season  season_type_Playoffs  \\\n",
       "game_date                                                      \n",
       "2009-10-28                           1                     0   \n",
       "2009-10-28                           1                     0   \n",
       "2009-10-28                           1                     0   \n",
       "2009-10-28                           1                     0   \n",
       "2009-10-28                           1                     0   \n",
       "\n",
       "            scoremargin_before_shot  \n",
       "game_date                            \n",
       "2009-10-28                      2.0  \n",
       "2009-10-28                      0.0  \n",
       "2009-10-28                     -4.0  \n",
       "2009-10-28                     -4.0  \n",
       "2009-10-28                      0.0  \n",
       "\n",
       "[5 rows x 146 columns]"
      ]
     },
     "execution_count": 238,
     "metadata": {},
     "output_type": "execute_result"
    }
   ],
   "source": [
    "X_train.head()"
   ]
  },
  {
   "cell_type": "code",
   "execution_count": 240,
   "metadata": {},
   "outputs": [
    {
     "data": {
      "text/html": [
       "<div>\n",
       "<style scoped>\n",
       "    .dataframe tbody tr th:only-of-type {\n",
       "        vertical-align: middle;\n",
       "    }\n",
       "\n",
       "    .dataframe tbody tr th {\n",
       "        vertical-align: top;\n",
       "    }\n",
       "\n",
       "    .dataframe thead th {\n",
       "        text-align: right;\n",
       "    }\n",
       "</style>\n",
       "<table border=\"1\" class=\"dataframe\">\n",
       "  <thead>\n",
       "    <tr style=\"text-align: right;\">\n",
       "      <th></th>\n",
       "      <th>shot_made_flag</th>\n",
       "    </tr>\n",
       "    <tr>\n",
       "      <th>game_date</th>\n",
       "      <th></th>\n",
       "    </tr>\n",
       "  </thead>\n",
       "  <tbody>\n",
       "    <tr>\n",
       "      <td>2009-10-28</td>\n",
       "      <td>0</td>\n",
       "    </tr>\n",
       "    <tr>\n",
       "      <td>2009-10-28</td>\n",
       "      <td>1</td>\n",
       "    </tr>\n",
       "    <tr>\n",
       "      <td>2009-10-28</td>\n",
       "      <td>0</td>\n",
       "    </tr>\n",
       "    <tr>\n",
       "      <td>2009-10-28</td>\n",
       "      <td>0</td>\n",
       "    </tr>\n",
       "    <tr>\n",
       "      <td>2009-10-28</td>\n",
       "      <td>0</td>\n",
       "    </tr>\n",
       "  </tbody>\n",
       "</table>\n",
       "</div>"
      ],
      "text/plain": [
       "            shot_made_flag\n",
       "game_date                 \n",
       "2009-10-28               0\n",
       "2009-10-28               1\n",
       "2009-10-28               0\n",
       "2009-10-28               0\n",
       "2009-10-28               0"
      ]
     },
     "execution_count": 240,
     "metadata": {},
     "output_type": "execute_result"
    }
   ],
   "source": [
    "y_train.head()"
   ]
  },
  {
   "cell_type": "code",
   "execution_count": 241,
   "metadata": {},
   "outputs": [],
   "source": [
    "X_val = encoder.fit_transform(X_val)\n",
    "y_val =  encoder.fit_transform(y_val)"
   ]
  },
  {
   "cell_type": "code",
   "execution_count": 243,
   "metadata": {},
   "outputs": [
    {
     "data": {
      "text/html": [
       "<div>\n",
       "<style scoped>\n",
       "    .dataframe tbody tr th:only-of-type {\n",
       "        vertical-align: middle;\n",
       "    }\n",
       "\n",
       "    .dataframe tbody tr th {\n",
       "        vertical-align: top;\n",
       "    }\n",
       "\n",
       "    .dataframe thead th {\n",
       "        text-align: right;\n",
       "    }\n",
       "</style>\n",
       "<table border=\"1\" class=\"dataframe\">\n",
       "  <thead>\n",
       "    <tr style=\"text-align: right;\">\n",
       "      <th></th>\n",
       "      <th>game_id</th>\n",
       "      <th>game_event_id</th>\n",
       "      <th>period</th>\n",
       "      <th>minutes_remaining</th>\n",
       "      <th>seconds_remaining</th>\n",
       "      <th>action_type</th>\n",
       "      <th>shot_type</th>\n",
       "      <th>shot_zone_basic</th>\n",
       "      <th>shot_zone_area</th>\n",
       "      <th>shot_zone_range</th>\n",
       "      <th>shot_distance</th>\n",
       "      <th>loc_x</th>\n",
       "      <th>loc_y</th>\n",
       "      <th>htm</th>\n",
       "      <th>vtm</th>\n",
       "      <th>season_type</th>\n",
       "      <th>scoremargin_before_shot</th>\n",
       "    </tr>\n",
       "    <tr>\n",
       "      <th>game_date</th>\n",
       "      <th></th>\n",
       "      <th></th>\n",
       "      <th></th>\n",
       "      <th></th>\n",
       "      <th></th>\n",
       "      <th></th>\n",
       "      <th></th>\n",
       "      <th></th>\n",
       "      <th></th>\n",
       "      <th></th>\n",
       "      <th></th>\n",
       "      <th></th>\n",
       "      <th></th>\n",
       "      <th></th>\n",
       "      <th></th>\n",
       "      <th></th>\n",
       "      <th></th>\n",
       "    </tr>\n",
       "  </thead>\n",
       "  <tbody>\n",
       "    <tr>\n",
       "      <td>2017-10-17</td>\n",
       "      <td>21700002</td>\n",
       "      <td>56</td>\n",
       "      <td>1</td>\n",
       "      <td>8</td>\n",
       "      <td>9</td>\n",
       "      <td>Jump Shot</td>\n",
       "      <td>3PT Field Goal</td>\n",
       "      <td>Above the Break 3</td>\n",
       "      <td>Right Side Center(RC)</td>\n",
       "      <td>24+ ft.</td>\n",
       "      <td>25</td>\n",
       "      <td>95</td>\n",
       "      <td>242</td>\n",
       "      <td>GSW</td>\n",
       "      <td>HOU</td>\n",
       "      <td>Regular Season</td>\n",
       "      <td>5.0</td>\n",
       "    </tr>\n",
       "    <tr>\n",
       "      <td>2017-10-17</td>\n",
       "      <td>21700002</td>\n",
       "      <td>167</td>\n",
       "      <td>1</td>\n",
       "      <td>0</td>\n",
       "      <td>32</td>\n",
       "      <td>Turnaround Fadeaway shot</td>\n",
       "      <td>2PT Field Goal</td>\n",
       "      <td>Mid-Range</td>\n",
       "      <td>Right Side(R)</td>\n",
       "      <td>8-16 ft.</td>\n",
       "      <td>13</td>\n",
       "      <td>129</td>\n",
       "      <td>43</td>\n",
       "      <td>GSW</td>\n",
       "      <td>HOU</td>\n",
       "      <td>Regular Season</td>\n",
       "      <td>4.0</td>\n",
       "    </tr>\n",
       "    <tr>\n",
       "      <td>2017-10-17</td>\n",
       "      <td>21700002</td>\n",
       "      <td>207</td>\n",
       "      <td>2</td>\n",
       "      <td>9</td>\n",
       "      <td>14</td>\n",
       "      <td>Layup Shot</td>\n",
       "      <td>2PT Field Goal</td>\n",
       "      <td>Restricted Area</td>\n",
       "      <td>Center(C)</td>\n",
       "      <td>Less Than 8 ft.</td>\n",
       "      <td>2</td>\n",
       "      <td>20</td>\n",
       "      <td>10</td>\n",
       "      <td>GSW</td>\n",
       "      <td>HOU</td>\n",
       "      <td>Regular Season</td>\n",
       "      <td>8.0</td>\n",
       "    </tr>\n",
       "    <tr>\n",
       "      <td>2017-10-17</td>\n",
       "      <td>21700002</td>\n",
       "      <td>219</td>\n",
       "      <td>2</td>\n",
       "      <td>8</td>\n",
       "      <td>15</td>\n",
       "      <td>Jump Shot</td>\n",
       "      <td>3PT Field Goal</td>\n",
       "      <td>Above the Break 3</td>\n",
       "      <td>Left Side Center(LC)</td>\n",
       "      <td>24+ ft.</td>\n",
       "      <td>27</td>\n",
       "      <td>-127</td>\n",
       "      <td>239</td>\n",
       "      <td>GSW</td>\n",
       "      <td>HOU</td>\n",
       "      <td>Regular Season</td>\n",
       "      <td>9.0</td>\n",
       "    </tr>\n",
       "    <tr>\n",
       "      <td>2017-10-17</td>\n",
       "      <td>21700002</td>\n",
       "      <td>370</td>\n",
       "      <td>3</td>\n",
       "      <td>11</td>\n",
       "      <td>13</td>\n",
       "      <td>Driving Reverse Layup Shot</td>\n",
       "      <td>2PT Field Goal</td>\n",
       "      <td>Restricted Area</td>\n",
       "      <td>Center(C)</td>\n",
       "      <td>Less Than 8 ft.</td>\n",
       "      <td>1</td>\n",
       "      <td>-13</td>\n",
       "      <td>14</td>\n",
       "      <td>GSW</td>\n",
       "      <td>HOU</td>\n",
       "      <td>Regular Season</td>\n",
       "      <td>10.0</td>\n",
       "    </tr>\n",
       "  </tbody>\n",
       "</table>\n",
       "</div>"
      ],
      "text/plain": [
       "             game_id  game_event_id  period  minutes_remaining  \\\n",
       "game_date                                                        \n",
       "2017-10-17  21700002             56       1                  8   \n",
       "2017-10-17  21700002            167       1                  0   \n",
       "2017-10-17  21700002            207       2                  9   \n",
       "2017-10-17  21700002            219       2                  8   \n",
       "2017-10-17  21700002            370       3                 11   \n",
       "\n",
       "            seconds_remaining                 action_type       shot_type  \\\n",
       "game_date                                                                   \n",
       "2017-10-17                  9                   Jump Shot  3PT Field Goal   \n",
       "2017-10-17                 32    Turnaround Fadeaway shot  2PT Field Goal   \n",
       "2017-10-17                 14                  Layup Shot  2PT Field Goal   \n",
       "2017-10-17                 15                   Jump Shot  3PT Field Goal   \n",
       "2017-10-17                 13  Driving Reverse Layup Shot  2PT Field Goal   \n",
       "\n",
       "              shot_zone_basic         shot_zone_area  shot_zone_range  \\\n",
       "game_date                                                               \n",
       "2017-10-17  Above the Break 3  Right Side Center(RC)          24+ ft.   \n",
       "2017-10-17          Mid-Range          Right Side(R)         8-16 ft.   \n",
       "2017-10-17    Restricted Area              Center(C)  Less Than 8 ft.   \n",
       "2017-10-17  Above the Break 3   Left Side Center(LC)          24+ ft.   \n",
       "2017-10-17    Restricted Area              Center(C)  Less Than 8 ft.   \n",
       "\n",
       "            shot_distance  loc_x  loc_y  htm  vtm     season_type  \\\n",
       "game_date                                                           \n",
       "2017-10-17             25     95    242  GSW  HOU  Regular Season   \n",
       "2017-10-17             13    129     43  GSW  HOU  Regular Season   \n",
       "2017-10-17              2     20     10  GSW  HOU  Regular Season   \n",
       "2017-10-17             27   -127    239  GSW  HOU  Regular Season   \n",
       "2017-10-17              1    -13     14  GSW  HOU  Regular Season   \n",
       "\n",
       "            scoremargin_before_shot  \n",
       "game_date                            \n",
       "2017-10-17                      5.0  \n",
       "2017-10-17                      4.0  \n",
       "2017-10-17                      8.0  \n",
       "2017-10-17                      9.0  \n",
       "2017-10-17                     10.0  "
      ]
     },
     "execution_count": 243,
     "metadata": {},
     "output_type": "execute_result"
    }
   ],
   "source": [
    "X_val.head()"
   ]
  },
  {
   "cell_type": "code",
   "execution_count": null,
   "metadata": {},
   "outputs": [],
   "source": [
    "X_test = encoder.transform(X_test)"
   ]
  },
  {
   "cell_type": "code",
   "execution_count": null,
   "metadata": {},
   "outputs": [],
   "source": [
    "X_test.head()"
   ]
  },
  {
   "cell_type": "code",
   "execution_count": null,
   "metadata": {
    "colab": {},
    "colab_type": "code",
    "id": "X2S8mUuJy_CB"
   },
   "outputs": [],
   "source": [
    "pipeline = make_pipeline(\n",
    "    ce.OneHotEncoder(use_cat_names=True), \n",
    "    SimpleImputer(strategy='mean'), \n",
    "    RandomForestClassifier(n_estimators=100, random_state=42, n_jobs=-1)\n",
    ")"
   ]
  },
  {
   "cell_type": "code",
   "execution_count": null,
   "metadata": {
    "colab": {
     "base_uri": "https://localhost:8080/",
     "height": 412
    },
    "colab_type": "code",
    "id": "rJkZghj9vW2D",
    "outputId": "58b620bd-b3b4-45e1-ce49-f3796ef7a3a5"
   },
   "outputs": [],
   "source": [
    "pipeline.fit(X_train, y_train)\n",
    "print('Random Forest')\n",
    "print('Train Accuracy', pipeline.score(X_train, y_train))\n",
    "print('Validation Accuracy', pipeline.score(X_val, y_val))"
   ]
  },
  {
   "cell_type": "code",
   "execution_count": null,
   "metadata": {
    "colab": {
     "base_uri": "https://localhost:8080/",
     "height": 102
    },
    "colab_type": "code",
    "id": "sVBmWtL-kkCK",
    "outputId": "d0715204-537b-49e1-e64d-947824e3fcf6"
   },
   "outputs": [],
   "source": [
    "X_val.columns"
   ]
  },
  {
   "cell_type": "code",
   "execution_count": null,
   "metadata": {
    "colab": {
     "base_uri": "https://localhost:8080/",
     "height": 102
    },
    "colab_type": "code",
    "id": "tEkItsoLqdYE",
    "outputId": "2ece06f6-9b03-4988-d213-a51a723961a0"
   },
   "outputs": [],
   "source": [
    "X_train.columns"
   ]
  },
  {
   "cell_type": "code",
   "execution_count": null,
   "metadata": {
    "colab": {
     "base_uri": "https://localhost:8080/",
     "height": 395
    },
    "colab_type": "code",
    "id": "a3tyhxV9kIId",
    "outputId": "fa3282ce-1e86-4b45-ba18-c32b2e2aea39"
   },
   "outputs": [],
   "source": [
    "pipeline.fit(X_train, y_train)\n",
    "print('Train Accuracy', pipeline.score(X_train, y_train))\n",
    "print('Validation Accuracy', pipeline.score(X_val, y_val))"
   ]
  },
  {
   "cell_type": "markdown",
   "metadata": {
    "colab_type": "text",
    "id": "8kJXxFpty_CH"
   },
   "source": [
    "## 6.Get your model's validation accuracy\n",
    "\n",
    "> (Multiple times if you try multiple iterations.)"
   ]
  },
  {
   "cell_type": "code",
   "execution_count": null,
   "metadata": {
    "colab": {},
    "colab_type": "code",
    "id": "c2OlrwKZh-8C"
   },
   "outputs": [],
   "source": []
  },
  {
   "cell_type": "code",
   "execution_count": null,
   "metadata": {
    "colab": {
     "base_uri": "https://localhost:8080/",
     "height": 122
    },
    "colab_type": "code",
    "id": "7560JKvxy_CJ",
    "outputId": "11016818-d0b1-4676-a252-b7cb06acfb65"
   },
   "outputs": [],
   "source": [
    "\n",
    "\n",
    "pipeline = make_pipeline(\n",
    "    ce.TargetEncoder(min_samples_leaf=1, smoothing=1), \n",
    "    SimpleImputer(strategy='median'), \n",
    "    RandomForestRegressor(n_estimators=100, n_jobs=-1, random_state=42)\n",
    ")\n",
    "\n",
    "k = 3\n",
    "scores = cross_val_score(pipeline, X_train, y_train, cv=k, \n",
    "                         scoring='neg_mean_absolute_error')\n",
    "print(f'MAE for {k} folds:', -scores)"
   ]
  },
  {
   "cell_type": "markdown",
   "metadata": {
    "colab_type": "text",
    "id": "YvyYY9tfy_CL"
   },
   "source": [
    "## 7. Get your model's test accuracy\n",
    "\n",
    "> (One time, at the end.)"
   ]
  },
  {
   "cell_type": "markdown",
   "metadata": {
    "colab_type": "text",
    "id": "xGL5stLvJCn1"
   },
   "source": [
    "## 8. Given a confusion matrix, calculate accuracy, precision, and recall.\n",
    "\n",
    "Imagine this is the confusion matrix for a binary classification model. Use the confusion matrix to calculate the model's accuracy, precision, and recall.\n",
    "\n",
    "<table>\n",
    "  <tr>\n",
    "    <td colspan=\"2\" rowspan=\"2\"></td>\n",
    "    <td colspan=\"2\">Predicted</td>\n",
    "  </tr>\n",
    "  <tr>\n",
    "    <td>Negative</td>\n",
    "    <td>Positive</td>\n",
    "  </tr>\n",
    "  <tr>\n",
    "    <td rowspan=\"2\">Actual</td>\n",
    "    <td>Negative</td>\n",
    "    <td style=\"border: solid\">85</td>\n",
    "    <td style=\"border: solid\">58</td>\n",
    "  </tr>\n",
    "  <tr>\n",
    "    <td>Positive</td>\n",
    "    <td style=\"border: solid\">8</td>\n",
    "    <td style=\"border: solid\"> 36</td>\n",
    "  </tr>\n",
    "</table>"
   ]
  },
  {
   "cell_type": "markdown",
   "metadata": {
    "colab_type": "text",
    "id": "nEvt7NkUJNao"
   },
   "source": [
    "### Calculate accuracy "
   ]
  },
  {
   "cell_type": "code",
   "execution_count": null,
   "metadata": {
    "colab": {},
    "colab_type": "code",
    "id": "FFszS2A5JJmv"
   },
   "outputs": [],
   "source": [
    "(85+36)/(85+36+58+8)"
   ]
  },
  {
   "cell_type": "markdown",
   "metadata": {
    "colab_type": "text",
    "id": "XjHTmk8sJO4v"
   },
   "source": [
    "### Calculate precision"
   ]
  },
  {
   "cell_type": "code",
   "execution_count": null,
   "metadata": {
    "colab": {},
    "colab_type": "code",
    "id": "7qX1gbcMJQS_"
   },
   "outputs": [],
   "source": [
    "36/(58+36)"
   ]
  },
  {
   "cell_type": "markdown",
   "metadata": {
    "colab_type": "text",
    "id": "pFug3ZKaJQ7A"
   },
   "source": [
    "### Calculate recall"
   ]
  },
  {
   "cell_type": "code",
   "execution_count": null,
   "metadata": {
    "colab": {},
    "colab_type": "code",
    "id": "L0OKc3JxJR4r"
   },
   "outputs": [],
   "source": [
    "36/(8+36)"
   ]
  },
  {
   "cell_type": "code",
   "execution_count": null,
   "metadata": {
    "colab": {},
    "colab_type": "code",
    "id": "wXNkzBaQtF-H"
   },
   "outputs": [],
   "source": []
  }
 ],
 "metadata": {
  "colab": {
   "collapsed_sections": [],
   "name": "DS_Sprint_Challenge_6.ipynb",
   "provenance": []
  },
  "kernelspec": {
   "display_name": "Python 3",
   "language": "python",
   "name": "python3"
  },
  "language_info": {
   "codemirror_mode": {
    "name": "ipython",
    "version": 3
   },
   "file_extension": ".py",
   "mimetype": "text/x-python",
   "name": "python",
   "nbconvert_exporter": "python",
   "pygments_lexer": "ipython3",
   "version": "3.7.4"
  }
 },
 "nbformat": 4,
 "nbformat_minor": 4
}
